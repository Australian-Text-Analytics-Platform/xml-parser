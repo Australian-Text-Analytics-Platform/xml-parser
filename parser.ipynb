{
 "cells": [
  {
   "metadata": {},
   "cell_type": "markdown",
   "source": [
    "# XML Parser\n",
    "\n",
    "The XML Parser is a tool for parsing XML-encoded texts to obtain textual metadata such as the speakers of utterances.\n",
    "\n",
    "## Instructions\n",
    "\n",
    "1. Upload your document files to the 'corpus_data' directory\n",
    "2. Run the cell below and use the Corpus Loader to build a corpus from your selected documents\n",
    "3. Once the corpus is built, navigate to the 'XML Parser' tab. Here, select your corpus in the dropdown and click 'Parse XML'\n",
    "4. When parsing is complete, navigate to the 'Corpus Overview' tab to export the parsed corpus.\n",
    "\n",
    "## Notes\n",
    "\n",
    "- When loading files with a .xml extension, the Corpus Loader strips all XML tags and so these files cannot have their textual metadata parsed. To process these files correctly, change the file extension from .xml to .txt\n",
    "- The XML Parser keeps all corpus metadata but adds a column called 'speaker'. If there is already a metadata column called 'speaker' it will be overridden\n",
    "- When parsing utterances, the XML Parser will skip any utterance that does not have a speaker"
   ],
   "id": "455e4d419c0a3564"
  },
  {
   "metadata": {},
   "cell_type": "code",
   "outputs": [],
   "execution_count": null,
   "source": [
    "from xml_parser import XMLParser\n",
    "from atap_corpus_loader import CorpusLoader\n",
    "\n",
    "loader = CorpusLoader(root_directory='corpus_data', run_logger=True)\n",
    "parser: XMLParser = XMLParser(corpus_loader=loader, run_logger=True)\n",
    "parser"
   ],
   "id": "7149e13dbf5d144a"
  }
 ],
 "metadata": {
  "kernelspec": {
   "display_name": "Python 3",
   "language": "python",
   "name": "python3"
  },
  "language_info": {
   "codemirror_mode": {
    "name": "ipython",
    "version": 2
   },
   "file_extension": ".py",
   "mimetype": "text/x-python",
   "name": "python",
   "nbconvert_exporter": "python",
   "pygments_lexer": "ipython2",
   "version": "2.7.6"
  }
 },
 "nbformat": 4,
 "nbformat_minor": 5
}
