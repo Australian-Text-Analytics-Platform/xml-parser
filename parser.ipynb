{
 "cells": [
  {
   "cell_type": "code",
   "id": "initial_id",
   "source": [
    "from xml_parser import XMLParser\n",
    "from atap_corpus_loader import CorpusLoader\n",
    "\n",
    "loader = CorpusLoader(root_directory='corpus_data', run_logger=True)\n",
    "parser: XMLParser = XMLParser(corpus_loader=loader, run_logger=True)\n",
    "parser"
   ],
   "outputs": [],
   "execution_count": null,
   "metadata": {}
  }
 ],
 "metadata": {
  "kernelspec": {
   "display_name": "Python 3",
   "language": "python",
   "name": "python3"
  },
  "language_info": {
   "codemirror_mode": {
    "name": "ipython",
    "version": 2
   },
   "file_extension": ".py",
   "mimetype": "text/x-python",
   "name": "python",
   "nbconvert_exporter": "python",
   "pygments_lexer": "ipython2",
   "version": "2.7.6"
  }
 },
 "nbformat": 4,
 "nbformat_minor": 5
}
