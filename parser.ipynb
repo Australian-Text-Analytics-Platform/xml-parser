{
 "cells": [
  {
   "metadata": {},
   "cell_type": "markdown",
   "source": [
    "# XML Parser\n",
    "\n",
    "The XML Parser is a tool for parsing XML-encoded texts to obtain the content and speaker/author of utterances within the text.\n",
    "\n",
    "### Inputs\n",
    "\n",
    "The XML corpus can be provided either as a collection of text files or as an Excel/CSV table.\n",
    "The loader currently supports loading a corpus from the following file types: txt, odt, docx, csv, tsv, xlsx, ods, xml\n",
    "\n",
    "Following [Hardie (2014)](https://doi.org/10.2478/icame-2014-0004), utterances must be contained by 'u' tags and must include a 'who' attribute. Only utterances that follow this format will be included.\n",
    "An example of valid utterances is as follows:\n",
    "\n",
    "```xml\n",
    "<u who=\"PETER\">Hello, world.</u>\n",
    "<u who=\"WORLD\">Hello, Peter.</u>\n",
    "<u who=\"PETER\">Wow!</u>\n",
    "```\n",
    "\n",
    "### Output\n",
    "\n",
    "Once a corpus has been parsed, it can be exported in one of three formats: csv, xlsx, or zip.\n",
    "The zip format provides a zip file containing each utterance as a txt file, with a metadata.csv containing the corpus metadata.\n",
    "The csv and xlsx formats are structured as a table where each row represents an utterance. The table for the above input example would look as follows:\n",
    "\n",
    "| document_     | speaker |\n",
    "|---------------|---------|\n",
    "| Hello, world. | PETER   |\n",
    "| Hello, Peter. | WORLD   |\n",
    "| Wow!          | PETER   |\n",
    "\n",
    "## Instructions\n",
    "\n",
    "1. Upload your document files to the 'corpus_data' directory.\n",
    "2. Run the cell below and use the Corpus Loader to build a corpus from your selected documents.\n",
    "3. Once the corpus is built, navigate to the 'XML Parser' tab. Here, select your corpus in the dropdown and click 'Parse XML'.\n",
    "4. When parsing is complete, navigate to the 'Corpus Overview' tab to export the parsed corpus.\n",
    "\n",
    "See the [user guide](Corpus%20Loader%20User%20Guide.pdf) for detailed instructions and hover over the tooltips in the loader for simplified instructions on how to load and build the corpus.\n",
    "\n",
    "## Notes\n",
    "\n",
    "- The XML Parser keeps all corpus metadata but adds a metadata called 'speaker'. If there is already a metadata column called 'speaker' it will be overwritten.\n",
    "- When parsing utterances, the XML Parser will skip any utterance that does not have a speaker.\n",
    "- When parsing utterances, the XML Parser will remove any XML tags within the contents of the utterance."
   ],
   "id": "455e4d419c0a3564"
  },
  {
   "metadata": {},
   "cell_type": "code",
   "outputs": [],
   "execution_count": null,
   "source": [
    "from xml_parser import XMLParser\n",
    "from atap_corpus_loader import CorpusLoader\n",
    "\n",
    "loader = CorpusLoader(root_directory='corpus_data', run_logger=True)\n",
    "parser: XMLParser = XMLParser(corpus_loader=loader, run_logger=True)\n",
    "parser"
   ],
   "id": "7149e13dbf5d144a"
  }
 ],
 "metadata": {
  "kernelspec": {
   "display_name": "Python 3",
   "language": "python",
   "name": "python3"
  },
  "language_info": {
   "codemirror_mode": {
    "name": "ipython",
    "version": 2
   },
   "file_extension": ".py",
   "mimetype": "text/x-python",
   "name": "python",
   "nbconvert_exporter": "python",
   "pygments_lexer": "ipython2",
   "version": "2.7.6"
  }
 },
 "nbformat": 4,
 "nbformat_minor": 5
}
